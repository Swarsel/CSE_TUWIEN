{
 "cells": [
  {
   "cell_type": "code",
   "execution_count": 1,
   "metadata": {},
   "outputs": [],
   "source": [
    "%matplotlib widget\n",
    "import numpy as np\n",
    "import scipy as sp\n",
    "import matplotlib.pyplot as plt"
   ]
  },
  {
   "cell_type": "markdown",
   "metadata": {},
   "source": [
    "# Simple problem: Planet with mass $m$ orbiting a star with mass $M\\gg m$\n",
    "\n",
    "![Elliptical orbit](ellipse.png \"Elements of the orbit\")"
   ]
  },
  {
   "cell_type": "markdown",
   "metadata": {},
   "source": [
    "# Recasting the problem in one-body terms\n",
    "\n",
    "Solving the problem requires computing the trajectories of the star ($\\mathbf{x}_M\\left(t\\right)$) and the planet ($\\mathbf{x}_m\\left(t\\right)$). However, it is advantageous to study the following two linear combinations instead:\n",
    "\n",
    "$\\mathbf{X} = \\frac{M\\mathbf{x}_M + m\\mathbf{x}_m}{M+m}$\n",
    "\n",
    "$\\mathbf{x} = \\mathbf{x}_m - \\mathbf{X} = M\\frac{\\mathbf{x}_m - \\mathbf{x}_M}{M+m}$\n",
    "\n",
    "Since no external forces act on the system, the total linear momentum is conserved. This is trivially equivalent to $\\frac{\\mathrm{d}^2\\mathbf{X}}{\\mathrm{d}t^2}=0$, so the solution for $\\mathbf{X}\\left(t\\right)$ does not require any numerical integration. The problem is effectively recast as a one-body problem for a planet with mass\n",
    "\n",
    "$$\\frac{1}{\\frac{1}{m} + \\frac{1}{M}}$$\n",
    "\n",
    "whose position is described by $\\mathbf{x}$. Moreover, and because we have assumed that $M >> m \\implies\\mathbf{X}\\simeq \\mathbf{x}_M$ and this effective mass is approximately equal to $m$. In other words, we can assume that the star if fixed and solve only for the movement of the planet."
   ]
  },
  {
   "cell_type": "markdown",
   "metadata": {},
   "source": [
    "# Moving to 2D\n",
    "\n",
    "Newton's law of gravity predicts that the potential energy of the system depends only on the distance between the two masses. As we have briefly seen in the slides, central force fields lead to the conservation of linear momentum $\\mathbf{L} = m \\mathbf{x} \\times \\mathbf{v}$. Hence, $\\mathbf{x}$ and $\\mathbf{v}$ are always perpendicular to a constant vector $\\mathbf{L}$, i.e., they always lie in the same plane as defined by the initial conditions. Without any loss of generality, we can take that plane as $OXY$ and solve the problem in only two dimensions. We use the symbol $\\mathbf{r}$ for the 2D position of the planet, and redefine $\\mathbf{v}$ to be the time derivative of $\\mathbf{r}$."
   ]
  },
  {
   "cell_type": "markdown",
   "metadata": {},
   "source": [
    "## Potential energy\n",
    "\n",
    "$E_{\\mathrm{pot}} = -\\frac{GMm}{r}$\n",
    "\n",
    "## \"Natural\" system of units:\n",
    "\n",
    "- $G = 1$\n",
    "- $m = 1$\n",
    "- Initial conditions: $\\mathbf{r}\\left(0\\right) = \\left(1, 0\\right)$; $\\mathbf{v}\\left(0\\right) = \\left(0, v_0\\right)$\n",
    "\n",
    "## Conservation of enery and angular momentum:\n",
    "\n",
    "- $\\left|\\mathbf{L}\\right| = r v = \\left|\\mathbf{L}\\left(0\\right)\\right| = v_0$\n",
    "- $E = -\\frac{M}{r} + \\frac{1}{2} v^2 = E_0 = -M + \\frac{1}{2} v_0^2$\n",
    "\n",
    "## Analytical results:\n",
    "\n",
    "- $a = \\frac{A}{2M - v_0^2}$\n",
    "- $b = \\sqrt{2 a - 1}$"
   ]
  },
  {
   "cell_type": "code",
   "execution_count": 2,
   "metadata": {},
   "outputs": [],
   "source": [
    "# Mass of the star and initial conditions\n",
    "x0 = 1.\n",
    "v0 = 2.\n",
    "M = 10.\n",
    "\n",
    "# Time step for the integration\n",
    "dt = 1e-4\n",
    "\n",
    "def calc_E(x, y, vx, vy):\n",
    "    \"\"\"Compute the total mechanical energy (potential + kinetic) as a function of position and velocity.\"\"\"\n",
    "    r = np.hypot(x, y)\n",
    "    return -M / r + .5 * (vx * vx + vy * vy)\n",
    "\n",
    "\n",
    "def calc_f(x, y):\n",
    "    \"\"\"Compute both components of the force on the planet as a function of position.\"\"\"\n",
    "    r = np.hypot(x, y)\n",
    "    return -M * np.array([x, y]) / (r * r * r)\n",
    "\n",
    "\n",
    "# Analytical trajectory. Note that M is at the origin of coordinates.\n",
    "a = M / (2. * M - v0 * v0)\n",
    "b = np.sqrt(2. * a - 1.)\n",
    "xf = a - 1.\n",
    "phi = np.linspace(0., 2. * np.pi, num=100)\n",
    "xe = -xf + a * np.cos(phi)\n",
    "ye = b * np.sin(phi)"
   ]
  },
  {
   "cell_type": "markdown",
   "metadata": {},
   "source": [
    "## Integration scheme based on a truncated Taylor expansion\n",
    "\n",
    "$$\\begin{aligned}\n",
    "      \\mathbf{r}\\left(t + \\Delta t\\right) &= \\mathbf{r}\\left(t\\right) + \\mathbf{v}\\left(t\\right)\\Delta t + \\frac{1}{2}\\mathbf{a}\\left(t\\right)\\left(\\Delta t\\right)^2\\\\\n",
    "      \\mathbf{v}\\left(t + \\Delta t\\right) &= \\mathbf{v}\\left(t\\right) + \\mathbf{a}\\left(t\\right)\\Delta t\n",
    "\\end{aligned}$$"
   ]
  },
  {
   "cell_type": "code",
   "execution_count": 3,
   "metadata": {},
   "outputs": [],
   "source": [
    "def calc_trajectory_taylor(dt, nsteps=100000):\n",
    "    \"\"\"Implementation of the Taylor-based integration scheme. Return the trajectory and the energy.\"\"\"\n",
    "    trajectory = np.empty((nsteps, 2))\n",
    "    E = np.empty(nsteps)\n",
    "    # Set the initial conditions\n",
    "    pos = np.array([x0, 0.])\n",
    "    trajectory[0, :] = pos\n",
    "    v = np.array([0., v0])\n",
    "    E[0] = calc_E(pos[0], pos[1], v[0], v[1])\n",
    "    # Note that since m = 1, the force and the acceleration coincide\n",
    "    for i in range(1, nsteps):\n",
    "        f = calc_f(*pos.tolist())\n",
    "        pos += dt * (v + .5 * f * dt)\n",
    "        v += f * dt\n",
    "        trajectory[i, :] = pos \n",
    "        E[i] = calc_E(pos[0], pos[1], v[0], v[1])\n",
    "    return (np.array(trajectory), E)\n",
    "\n",
    "\n",
    "# Call the integrator\n",
    "trajectory, E = calc_trajectory_taylor(dt)"
   ]
  },
  {
   "cell_type": "code",
   "execution_count": 4,
   "metadata": {},
   "outputs": [
    {
     "data": {
      "application/vnd.jupyter.widget-view+json": {
       "model_id": "79ffa872a7a94a7db4af1697bb235a5f",
       "version_major": 2,
       "version_minor": 0
      },
      "text/plain": [
       "Canvas(toolbar=Toolbar(toolitems=[('Home', 'Reset original view', 'home', 'home'), ('Back', 'Back to previous …"
      ]
     },
     "metadata": {},
     "output_type": "display_data"
    }
   ],
   "source": [
    " # Plot the result on top of the analytical reference\n",
    "fig = plt.figure()\n",
    "plt.plot(xe, ye, lw=3, label=\"analytical\", zorder=2)\n",
    "ax = plt.gca()\n",
    "ax.set_aspect(\"equal\")\n",
    "plt.axvline(x=0, ls=\":\", color=\"gray\")\n",
    "plt.axhline(y=0, ls=\":\", color=\"gray\")\n",
    "plt.plot(trajectory[:, 0], trajectory[:, 1], label=\"numerical\", zorder=1)\n",
    "plt.legend(loc=\"best\")\n",
    "plt.xlabel(\"x\")\n",
    "plt.ylabel(\"y\")\n",
    "plt.show()"
   ]
  },
  {
   "cell_type": "code",
   "execution_count": 5,
   "metadata": {},
   "outputs": [
    {
     "data": {
      "application/vnd.jupyter.widget-view+json": {
       "model_id": "94d1cd9101c1483fb9fb421cf9ba20f7",
       "version_major": 2,
       "version_minor": 0
      },
      "text/plain": [
       "Canvas(toolbar=Toolbar(toolitems=[('Home', 'Reset original view', 'home', 'home'), ('Back', 'Back to previous …"
      ]
     },
     "metadata": {},
     "output_type": "display_data"
    }
   ],
   "source": [
    "# Check the conservation of energy\n",
    "fig = plt.figure()\n",
    "plt.plot(dt * np.arange(E.size), E)\n",
    "plt.xlim(0, dt * E.size)\n",
    "plt.ylim(-9., -6.)\n",
    "plt.xlabel(\"t\")\n",
    "plt.ylabel(\"E\")\n",
    "plt.show()"
   ]
  },
  {
   "cell_type": "markdown",
   "metadata": {},
   "source": [
    "## Velocity Verlet integration\n",
    "\n",
    "$$\\begin{aligned}\n",
    "      \\mathbf{r}\\left(t + \\Delta t\\right) &= \\mathbf{r}\\left(t\\right) + \\mathbf{v}\\left(t\\right)\\Delta t + \\frac{1}{2}\\mathbf{a}\\left(t\\right)\\left(\\Delta t\\right)^2\\\\\n",
    "      \\mathbf{v}\\left(t + \\Delta t\\right) &= \\mathbf{v}\\left(t\\right) + \\frac{\\mathbf{a}\\left(t\\right)+ \\mathbf{a}\\left(t + \\Delta t\\right)}{2}\\Delta t\n",
    "\\end{aligned}$$"
   ]
  },
  {
   "cell_type": "code",
   "execution_count": 6,
   "metadata": {},
   "outputs": [],
   "source": [
    "# Repeat  the processs with the new integrator\n",
    "def calc_trajectory_verlet(dt, nsteps=100000):\n",
    "    \"\"\"Implementation of the velocity Verlet integration scheme. Return the trajectory and the energy.\"\"\"\n",
    "    trajectory = np.empty((nsteps, 2))\n",
    "    E = np.empty(nsteps)\n",
    "    pos = np.array([x0, 0.])\n",
    "    trajectory[0, :] = pos\n",
    "    v = np.array([0., v0])\n",
    "    E[0] = calc_E(pos[0], pos[1], v[0], v[1])\n",
    "    # We keep the forces at two time steps\n",
    "    f = calc_f(*pos.tolist())\n",
    "    for i in range(1, nsteps):\n",
    "        pos += dt * (v + .5 * f * dt)\n",
    "        newf = calc_f(*pos.tolist())\n",
    "        v += .5 * (f + newf) * dt\n",
    "        trajectory[i, :] = pos \n",
    "        E[i] = calc_E(pos[0], pos[1], v[0], v[1])\n",
    "        f = newf\n",
    "    return (np.array(trajectory), E)\n",
    "\n",
    "\n",
    "# Call the integrator\n",
    "trajectory, E = calc_trajectory_verlet(dt)"
   ]
  },
  {
   "cell_type": "code",
   "execution_count": 7,
   "metadata": {},
   "outputs": [
    {
     "data": {
      "application/vnd.jupyter.widget-view+json": {
       "model_id": "ee5a380540e645cf8bf74b70f6e2e7cd",
       "version_major": 2,
       "version_minor": 0
      },
      "text/plain": [
       "Canvas(toolbar=Toolbar(toolitems=[('Home', 'Reset original view', 'home', 'home'), ('Back', 'Back to previous …"
      ]
     },
     "metadata": {},
     "output_type": "display_data"
    }
   ],
   "source": [
    " # Plot the result on top of the analytical reference\n",
    "fig = plt.figure()\n",
    "plt.plot(xe, ye, lw=3, label=\"analytical\", zorder=2)\n",
    "ax = plt.gca()\n",
    "ax.set_aspect(\"equal\")\n",
    "plt.axvline(x=0, ls=\":\", color=\"gray\")\n",
    "plt.axhline(y=0, ls=\":\", color=\"gray\")\n",
    "plt.plot(trajectory[:, 0], trajectory[:, 1], label=\"numerical\", zorder=1)\n",
    "plt.legend(loc=\"best\")\n",
    "plt.xlabel(\"x\")\n",
    "plt.ylabel(\"y\")\n",
    "plt.show()"
   ]
  },
  {
   "cell_type": "code",
   "execution_count": 8,
   "metadata": {
    "scrolled": false
   },
   "outputs": [
    {
     "data": {
      "application/vnd.jupyter.widget-view+json": {
       "model_id": "c6564e496f8f49da9d424ae8f35c5f35",
       "version_major": 2,
       "version_minor": 0
      },
      "text/plain": [
       "Canvas(toolbar=Toolbar(toolitems=[('Home', 'Reset original view', 'home', 'home'), ('Back', 'Back to previous …"
      ]
     },
     "metadata": {},
     "output_type": "display_data"
    }
   ],
   "source": [
    "# Check the conservation of energy\n",
    "fig = plt.figure()\n",
    "plt.plot(dt * np.arange(E.size), E)\n",
    "plt.xlim(0, dt * E.size)\n",
    "plt.ylim(-9., -6.)\n",
    "plt.xlabel(\"t\")\n",
    "plt.ylabel(\"E\")\n",
    "plt.show()"
   ]
  }
 ],
 "metadata": {
  "hide_input": false,
  "kernelspec": {
   "display_name": "Python 3",
   "language": "python",
   "name": "python3"
  },
  "language_info": {
   "codemirror_mode": {
    "name": "ipython",
    "version": 3
   },
   "file_extension": ".py",
   "mimetype": "text/x-python",
   "name": "python",
   "nbconvert_exporter": "python",
   "pygments_lexer": "ipython3",
   "version": "3.8.8"
  }
 },
 "nbformat": 4,
 "nbformat_minor": 4
}
