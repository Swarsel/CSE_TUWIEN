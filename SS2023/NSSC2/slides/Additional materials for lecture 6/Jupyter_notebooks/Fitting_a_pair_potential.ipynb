{
 "cells": [
  {
   "cell_type": "markdown",
   "metadata": {},
   "source": [
    "# Developing a pair potential for a dimer\n",
    "\n",
    "In this exercise we will develop a simple potential for Cl<sub>2</sub> dimer. I pregenerated the reference data using the quantum chemistry program [NWChem](http://www.nwchem-sw.org/index.php/Main_Page) and density functional theory, aiming for speed instead of accuracy. THose data are stored in the file `e_vs_l.txt`. The first column is the distance between the two atoms in ångström and the second is the energy in hartree ($1\\;\\mathrm{Ha}\\simeq 27.2114\\;\\mathrm{eV}$). Remember that the origin of energies is arbitrary: only the change in energy between two points matters.\n",
    "\n",
    "If you are interested, you can compare our results with the experimental measurements in this very thorough paper:\n",
    "\n",
    "<a href=\"Boris_M__Smirnov_1996_Phys.-Usp._39_R01.pdf\" target=\"_blank\">Boris M. Smirnov and A. S. Yatsenko *Phys.-Usp.* 39 (1996) 211</a>"
   ]
  },
  {
   "cell_type": "code",
   "execution_count": null,
   "metadata": {},
   "outputs": [],
   "source": [
    "%matplotlib widget\n",
    "\n",
    "\n",
    "from IPython.display import Markdown\n",
    "\n",
    "import string\n",
    "\n",
    "import numpy as np\n",
    "import scipy as sp\n",
    "import scipy.misc\n",
    "import scipy.interpolate\n",
    "import scipy.optimize\n",
    "import matplotlib\n",
    "import matplotlib.pyplot as plt\n",
    "\n",
    "import ase\n",
    "import ase.units\n",
    "\n",
    "alphabet = string.ascii_lowercase\n",
    "colors = matplotlib.rcParams[\"axes.prop_cycle\"].by_key()[\"color\"]"
   ]
  },
  {
   "cell_type": "code",
   "execution_count": null,
   "metadata": {},
   "outputs": [],
   "source": [
    "# Load and plot the data from NWChem's output. Note that we use ase.units.Hartree to convert the energies to eV.\n",
    "data = np.loadtxt(\"e_vs_l.txt\")\n",
    "r = data[:, 0]\n",
    "E = data[:, 1] * ase.units.Hartree\n",
    "# Set E=0 to the value of the energy for the dissociated molecule\n",
    "E -= E[-1]\n",
    "\n",
    "plt.figure()\n",
    "plt.plot(r, E)\n",
    "plt.axhline(y=0, ls=\"--\", color=\"#666666\", lw=2.)\n",
    "plt.xlabel(r\"$r\\;(\\mathrm{\\AA})$\")\n",
    "plt.ylabel(r\"$E_{\\mathrm{pot}}\\;(\\mathrm{eV})$\")\n",
    "plt.show()"
   ]
  },
  {
   "cell_type": "markdown",
   "metadata": {},
   "source": [
    "***"
   ]
  },
  {
   "cell_type": "markdown",
   "metadata": {},
   "source": [
    "# Part A: Fitting a Lennard-Jones (LJ) potential\n",
    "\n",
    "The Lennard-Jones potential is one of the oldest and simplest pair potentials. It combines a simple parametrization of the short-range part with the London (dipole correlation) attractive force:\n",
    "\n",
    "$$\n",
    "E_{\\mathrm{pot}} = 4\\epsilon \\left[\\left(\\frac{\\sigma}{r}\\right)^{12} - \\left(\\frac{\\sigma}{r}\\right)^6\\right]\n",
    "$$\n",
    "\n",
    "There are thus two adjustable parameters in the LJ expression, namely $\\epsilon$ and $\\sigma$. There are several features of the DFT curve shown above that we may try to reproduce, including:\n",
    "\n",
    "- The point where it crosses the $E_{\\mathrm{pot}}=0$ axis, $r_{\\mathrm{cross}}$\n",
    "- The position of the minimum, $r_{\\mathrm{min}}$\n",
    "- The depth of the minimum, $E_{\\mathrm{min}}$\n",
    "- The fundamental vibrational frequency of the dimer, determined by $\\left.\\frac{d^2 E_{\\mathrm{pot}}}{d r^2}\\right|_{r=r_{\\mathrm{min}}}$\n",
    "\n",
    "To do so, we start by noting that $E_{\\mathrm{pot}}\\left(\\sigma\\right) = 0$, so $r_{\\mathrm{cross}} = \\sigma$. As for the position and value of the minimum, \n",
    "\n",
    "$$\n",
    "\\left.\\frac{dE_{\\mathrm{pot}}}{dr}\\right|_{r=r_{\\mathrm{min}}} = 24\\left(\\frac{r_{\\mathrm{min}}}{\\sigma}\\right)^5 \\left[2\\left(\\frac{r_{\\mathrm{min}}}{\\sigma}\\right)^6  - 1\\right]= 0 \\Rightarrow r_{\\mathrm{min}} = \\frac{\\sigma}{2^{1/6}};\\;E_{\\mathrm{pot}}\\left(r_{\\mathrm{min}}\\right) = -\\epsilon\n",
    "$$\n",
    "\n",
    "Finally,\n",
    "\n",
    "$$\n",
    "\\left.\\frac{d^2 E_{\\mathrm{pot}}}{d r^2}\\right|_{r=r_{\\mathrm{min}}} = 24\\epsilon \\left(\\frac{r_{\\mathrm{min}}}{\\sigma}\\right)^4 \\left[22\\left(\\frac{r_{\\mathrm{min}}}{\\sigma}\\right)^6 - 5\\right] = 72 \\cdot 2^{1/3} \\cdot\\epsilon\n",
    "$$\n",
    "\n",
    "Any two of these relations will determine the values of $\\epsilon$ and $\\sigma$, and clearly they will not be strictly compatible for any given real $E_{\\mathrm{pot}}\\left(r\\right)$. Moreover, matching any pair of features of the curves does not guarantee a good global fit. We explore these questions below by comparing the results of several possible reasonable choices."
   ]
  },
  {
   "cell_type": "code",
   "execution_count": null,
   "metadata": {},
   "outputs": [],
   "source": [
    "# Interpolate the results to a denser grid, for convenience\n",
    "newr = np.linspace(r.min(), r.max(), num=1000)\n",
    "newE = sp.interpolate.interp1d(r, E, kind=\"cubic\")(newr)\n",
    "\n",
    "# Find the position and depth of the minimum, and the position where the curve crosses zero\n",
    "r_min = newr[newE.argmin()]\n",
    "E_min = newE.min()\n",
    "r_cross = newr[np.where(np.sign(newE[:-1]) != np.sign(newE[1:]))[0][0] + 1]"
   ]
  },
  {
   "cell_type": "code",
   "execution_count": null,
   "metadata": {},
   "outputs": [],
   "source": [
    "def lj(r, sigma, epsilon):\n",
    "    \"\"\"Straightworward implementation of the Lennard-Jones potential.\"\"\"\n",
    "    rm6 = (sigma / r) ** 6\n",
    "    return 4. * epsilon * rm6 * (rm6 - 1.)"
   ]
  },
  {
   "cell_type": "markdown",
   "metadata": {},
   "source": [
    "## LJ (a): A potential that reproduces the position and depth of the minimum"
   ]
  },
  {
   "cell_type": "code",
   "execution_count": null,
   "metadata": {
    "scrolled": true
   },
   "outputs": [],
   "source": [
    "sigma1 = r_min / 2 ** (1. / 6.)\n",
    "epsilon1 = -E_min\n",
    "display(Markdown(r\"\"\"\n",
    "LJ(a):\n",
    "\n",
    "- $\\sigma = {:.2f}\\;\\mathrm{{Å}}$\n",
    "- $\\epsilon = {:.2f}\\;\\mathrm{{eV}}$\n",
    "\"\"\".format(sigma1, epsilon1)))"
   ]
  },
  {
   "cell_type": "markdown",
   "metadata": {},
   "source": [
    "## LJ (b): The LJ potential affording the closest fit to all points of the curve below the horizontal axis\n",
    "\n",
    "We get this one from a nonlinear least-squares fit that minimizes\n",
    "\n",
    "$$\n",
    "\\int\\limits_{r_{\\mathrm{cross}}}^{\\infty} \\left\\vert E_{\\mathrm{pot}}\\left(r\\right) - 4\\epsilon \\left[\\left(\\frac{\\sigma}{r}\\right)^{12} - \\left(\\frac{\\sigma}{r}\\right)^6\\right] \\right\\vert^2 dr\n",
    "$$\n",
    "\n",
    "with respect to the parameters $\\sigma$ and $\\epsilon$."
   ]
  },
  {
   "cell_type": "code",
   "execution_count": null,
   "metadata": {},
   "outputs": [],
   "source": [
    "indices = (E < 0.)\n",
    "result = scipy.optimize.curve_fit(lj, r[indices], E[indices],\n",
    "                                  p0=(sigma1, epsilon1),\n",
    "                                  bounds=((1., 0.), (3, 4.)))\n",
    "sigma2, epsilon2 = result[0]\n",
    "display(Markdown(r\"\"\"\n",
    "LJ(b):\n",
    "\n",
    "- $\\sigma = {:.2f}\\;\\mathrm{{Å}}$\n",
    "- $\\epsilon = {:.2f}\\;\\mathrm{{eV}}$\n",
    "\"\"\".format(sigma2, epsilon2)))"
   ]
  },
  {
   "cell_type": "markdown",
   "metadata": {},
   "source": [
    "## LJ (c): A potential that reproduces the crossing point with the horizontal axis and the depth of the minimum"
   ]
  },
  {
   "cell_type": "code",
   "execution_count": null,
   "metadata": {},
   "outputs": [],
   "source": [
    "# Fit another LJ potential using the crossing point and the depth of the minimum\n",
    "sigma3 = r_cross\n",
    "epsilon3 = -E_min\n",
    "display(Markdown(r\"\"\"\n",
    "LJ(c):\n",
    "\n",
    "- $\\sigma = {:.2f}\\;\\mathrm{{Å}}$\n",
    "- $\\epsilon = {:.2f}\\;\\mathrm{{eV}}$\n",
    "\"\"\".format(sigma3, epsilon3)))"
   ]
  },
  {
   "cell_type": "markdown",
   "metadata": {},
   "source": [
    "## LJ (d): A potential that reproduces the position of the minimum and the fundamental vibration frequency of the dimer"
   ]
  },
  {
   "cell_type": "code",
   "execution_count": null,
   "metadata": {},
   "outputs": [],
   "source": [
    "# Fit yet another LJ potential using the position and the first derivative of the minimum\n",
    "sigma4 = sigma1\n",
    "Ktilde = sp.misc.derivative(sp.interpolate.interp1d(r, E),\n",
    "                            2 ** (1. / 6.) * sigma4, dx=0.1, n=2,\n",
    "                            order=3)\n",
    "epsilon4 = 2 ** (1. / 3.) * sigma4 ** 2. * Ktilde / 72.\n",
    "display(Markdown(r\"\"\"\n",
    "LJ(a):\n",
    "\n",
    "- $\\sigma = {:.2f}\\;\\mathrm{{Å}}$\n",
    "- $\\epsilon = {:.2f}\\;\\mathrm{{eV}}$\n",
    "\"\"\".format(sigma4, epsilon4)))"
   ]
  },
  {
   "cell_type": "markdown",
   "metadata": {},
   "source": [
    "## Comparison of all results"
   ]
  },
  {
   "cell_type": "code",
   "execution_count": null,
   "metadata": {},
   "outputs": [],
   "source": [
    "# Plot all of the results alongside the real thing\n",
    "sigmas = [sigma1, sigma2, sigma3, sigma4]\n",
    "epsilons = [epsilon1, epsilon2, epsilon3, epsilon4]\n",
    "\n",
    "plt.figure()\n",
    "plt.scatter(r, E, color=colors[0], label=\"DFT\")\n",
    "plt.plot(newr, newE, color=colors[0])\n",
    "for i, (sigma, epsilon) in enumerate(zip(sigmas, epsilons)):\n",
    "    plt.plot(newr, lj(newr, sigma, epsilon), color=colors[i + 1],\n",
    "             label=\"LJ ({})\".format(alphabet[i]))\n",
    "plt.axhline(y=0., lw=1., color=\"#666666\", ls=\":\")\n",
    "plt.xlabel(r\"$r\\;\\left(\\mathrm{\\AA}\\right)$\")\n",
    "plt.ylabel(r\"$E_{\\mathrm{pot}}\\;\\left(\\mathrm{eV}\\right)$\")\n",
    "plt.legend(loc=\"best\")\n",
    "plt.xlim(1., 4.)\n",
    "plt.ylim(-4., 4.)\n",
    "plt.tight_layout()"
   ]
  },
  {
   "cell_type": "markdown",
   "metadata": {},
   "source": [
    "#  Part B: Fitting a Morse potential\n",
    "\n",
    "The Morse potential has the following functional form:\n",
    "\n",
    "$$\n",
    "E_{\\mathrm{pot}} \\left(r\\right) = D_e\\left\\lbrace\\left[1 - e^{-\\alpha\\left(r -r_c\\right)}\\right]^2 - 1\\right\\rbrace\n",
    "$$\n",
    "\n",
    "With three parameters ($D_e$, $\\alpha$ and $r_c$) it offers a little more flexibility than the LJ model, and it is generally considered as a useful tool for a semi-quantitative description of a range of binary molecules.\n",
    "\n",
    "We can easily obtain analytical expressions for the same features that we used in fitting the LJ potential:\n",
    "\n",
    "- $$E_{\\mathrm{pot}}\\left(r_{\\mathrm{cross}}\\right) = 0 \\Rightarrow r_{\\mathrm{cross}} = r_c - \\frac{\\log 2}{\\alpha}$$\n",
    "- $$\n",
    "\\left.\\frac{dE_{\\mathrm{pot}}}{dr}\\right|_{r=r_{\\mathrm{min}}} = 2 \\alpha D_e e^{-\\alpha\\left(r_{\\mathrm{min}} -r_c\\right)} \\left[1 - e^{-\\alpha\\left(r_{\\mathrm{min}} -r_c\\right)}\\right] = 0 \\Rightarrow r_{\\mathrm{min}} = r_c;\\; E_{\\mathrm{pot}}\\left(r_{\\mathrm{min}}\\right) = -D_e\n",
    "$$\n",
    "- $$\n",
    "\\left.\\frac{d^2 E_{\\mathrm{pot}}}{d r^2}\\right|_{r=r_{\\mathrm{min}}} = 2 \\alpha^2 D_e e^{-\\alpha\\left(r_{\\mathrm{min}} -r_c\\right)} \\left[2 e^{-\\alpha\\left(r_{\\mathrm{min}} -r_c\\right)} - 1\\right] = 2\\alpha^2 D_e\n",
    "$$\n"
   ]
  },
  {
   "cell_type": "code",
   "execution_count": null,
   "metadata": {},
   "outputs": [],
   "source": [
    "def morse(r, De, alpha, rc):\n",
    "    \"\"\"Straightworward implementation of the Morse potential.\"\"\"\n",
    "    exp = np.exp(-alpha * (r - rc))\n",
    "    return De * ((1. - exp)**2. - 1.)"
   ]
  },
  {
   "cell_type": "markdown",
   "metadata": {},
   "source": [
    "## Morse (a): A potential that reproduces the crossing point, and the position and depth of the minimum"
   ]
  },
  {
   "cell_type": "code",
   "execution_count": null,
   "metadata": {
    "scrolled": true
   },
   "outputs": [],
   "source": [
    "De1 = -E_min\n",
    "alpha1 = np.log(2) / (r_min - r_cross)\n",
    "rc1 = r_min\n",
    "display(Markdown(r\"\"\"\n",
    "Morse (a):\n",
    "\n",
    "- $r_c = {:.2f}\\;\\mathrm{{Å}}$\n",
    "- $\\alpha = {:.2f}\\;\\mathrm{{Å^{{-1}}}}$\n",
    "- $D_e = {:.2f}\\;\\mathrm{{eV}}$\n",
    "\"\"\".format(rc1, alpha1, De1)))"
   ]
  },
  {
   "cell_type": "markdown",
   "metadata": {},
   "source": [
    "## Morse (b): The Morse potential affording the closest fit to all points of the curve below the horizontal axis\n",
    "\n",
    "We get this one from a nonlinear least-squares fit that minimizes\n",
    "\n",
    "$$\n",
    "\\int\\limits_{r_{\\mathrm{cross}}}^{\\infty} \\left\\vert E_{\\mathrm{pot}}\\left(r\\right) - D_e\\left\\lbrace\\left[1 - e^{-\\alpha\\left(r -r_c\\right)}\\right]^2 - 1\\right\\rbrace \\right\\vert^2 dr\n",
    "$$\n",
    "\n",
    "with respect to the parameters $D_e$, $\\alpha$ and $r_c$."
   ]
  },
  {
   "cell_type": "code",
   "execution_count": null,
   "metadata": {},
   "outputs": [],
   "source": [
    "indices = (E < 0.)\n",
    "result = scipy.optimize.curve_fit(morse, r[indices], E[indices],\n",
    "                                  p0=(De1, alpha1, rc1))\n",
    "De2, alpha2, rc2 = result[0]\n",
    "display(Markdown(r\"\"\"\n",
    "Morse (b):\n",
    "\n",
    "- $r_c = {:.2f}\\;\\mathrm{{Å}}$\n",
    "- $\\alpha = {:.2f}\\;\\mathrm{{Å^{{-1}}}}$\n",
    "- $D_e = {:.2f}\\;\\mathrm{{eV}}$\n",
    "\"\"\".format(rc2, alpha2, De2)))"
   ]
  },
  {
   "cell_type": "markdown",
   "metadata": {},
   "source": [
    "## Morse (c): A potential that reproduces the position and depth of the minimum, and the fundamental vibration frequency of the dimer"
   ]
  },
  {
   "cell_type": "code",
   "execution_count": null,
   "metadata": {
    "scrolled": true
   },
   "outputs": [],
   "source": [
    "De3 = -E_min\n",
    "Ktilde = sp.misc.derivative(sp.interpolate.interp1d(r, E), r_min,\n",
    "                            dx=0.1, n=2, order=3)\n",
    "alpha3 = np.sqrt(Ktilde / (2. * De3))\n",
    "rc3 = r_min\n",
    "display(Markdown(r\"\"\"\n",
    "Morse (c):\n",
    "\n",
    "- $r_c = {:.2f}\\;\\mathrm{{Å}}$\n",
    "- $\\alpha = {:.2f}\\;\\mathrm{{Å^{{-1}}}}$\n",
    "- $D_e = {:.2f}\\;\\mathrm{{eV}}$\n",
    "\"\"\".format(rc3, alpha3, De3)))"
   ]
  },
  {
   "cell_type": "markdown",
   "metadata": {},
   "source": [
    "## Comparison of all results"
   ]
  },
  {
   "cell_type": "code",
   "execution_count": null,
   "metadata": {},
   "outputs": [],
   "source": [
    "# Plot all of the results alongside the real thing\n",
    "Des = [De1, De2, De3]\n",
    "alphas = [alpha1, alpha2, alpha3] \n",
    "rcs = [rc1, rc2, rc3]\n",
    "\n",
    "plt.figure()\n",
    "plt.scatter(r, E, color=colors[0], label=\"DFT\")\n",
    "plt.plot(newr, newE, color=colors[0])\n",
    "for i, (De, alpha, rc) in enumerate(zip(Des, alphas, rcs)):\n",
    "    plt.plot(newr, morse(newr, De, alpha, rc), color=colors[i + 1],\n",
    "             label=\"Morse ({})\".format(alphabet[i]))\n",
    "plt.axhline(y=0., lw=1., color=\"#666666\", ls=\":\")\n",
    "plt.xlabel(r\"$r\\;\\left(\\mathrm{\\AA}\\right)$\")\n",
    "plt.ylabel(r\"$E_{\\mathrm{pot}}\\;\\left(\\mathrm{eV}\\right)$\")\n",
    "plt.legend(loc=\"best\")\n",
    "plt.xlim(1., 4.)\n",
    "plt.ylim(-4., 4.)\n",
    "plt.tight_layout()"
   ]
  }
 ],
 "metadata": {
  "hide_input": false,
  "kernelspec": {
   "display_name": "Python 3 (ipykernel)",
   "language": "python",
   "name": "python3"
  },
  "language_info": {
   "codemirror_mode": {
    "name": "ipython",
    "version": 3
   },
   "file_extension": ".py",
   "mimetype": "text/x-python",
   "name": "python",
   "nbconvert_exporter": "python",
   "pygments_lexer": "ipython3",
   "version": "3.8.8"
  }
 },
 "nbformat": 4,
 "nbformat_minor": 4
}
