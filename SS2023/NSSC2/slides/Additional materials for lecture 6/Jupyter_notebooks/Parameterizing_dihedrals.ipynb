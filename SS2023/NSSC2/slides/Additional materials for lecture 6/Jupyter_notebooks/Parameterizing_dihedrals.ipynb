{
 "cells": [
  {
   "cell_type": "markdown",
   "metadata": {},
   "source": [
    "# Dihedral parameters for ethane and ethene\n",
    "\n",
    "Thanks to the simple functional form of molecular-mechanics force fields, their parameters can be fitted one by one or in small groups as a first approximation, by focusing on a few degrees of freedom. In this notebook we are going to fit and analyze the dihedral parameters for ethane (C<sub>2</sub>H<sub>6</sub>), ethene/ethylene (C<sub>2</sub>H<sub>4</sub>), to see how the nature of the C-C bond affects the rotational freedom of the molecule. As in the case of the dimer, I have used NWChem to sample the energy at different values of the coordinate of interest. In this case, we focus on a dihedral angle relative to the plane defined by the two carbon atoms and one of the hydrogens:\n",
    "\n",
    "![Reference plane](reference.png \"Reference plane\")\n",
    "\n",
    "For ethane, $\\Phi$ is the relative angle between the two CH<sub>3</sub> tetrahedra:\n",
    "\n",
    "![Phi in ethane](ethane.png \"Phi in ethane\")\n",
    "\n",
    "For ethene, it is the angle between the planes defined by the two CH<sub>2</sub> groups:\n",
    "\n",
    "![Phi in ethene](ethene.png \"Phi in ethene\")"
   ]
  },
  {
   "cell_type": "code",
   "execution_count": null,
   "metadata": {},
   "outputs": [],
   "source": [
    "%matplotlib widget\n",
    "\n",
    "\n",
    "from IPython.display import Markdown\n",
    "from IPython.display import IFrame\n",
    "\n",
    "import string\n",
    "\n",
    "import numpy as np\n",
    "import scipy as sp\n",
    "import scipy.misc\n",
    "import scipy.interpolate\n",
    "import scipy.optimize\n",
    "import matplotlib\n",
    "import matplotlib.pyplot as plt\n",
    "\n",
    "import ase\n",
    "import ase.units\n",
    "\n",
    "alphabet = string.ascii_lowercase\n",
    "colors = matplotlib.rcParams[\"axes.prop_cycle\"].by_key()[\"color\"]\n",
    "matplotlib.rcParams[\"figure.figsize\"] = (8, 8)"
   ]
  },
  {
   "cell_type": "code",
   "execution_count": null,
   "metadata": {},
   "outputs": [],
   "source": [
    "# Load and plot the data from NWCHem's output\n",
    "data_ane = np.loadtxt(\"ethane_e_vs_phi.txt\")\n",
    "phi_ane = data_ane[:, 0]\n",
    "E_ane = data_ane[:, 1] * ase.units.Hartree\n",
    "E_ane -= E_ane[-1]\n",
    "\n",
    "data_ene = np.loadtxt(\"ethene_e_vs_phi.txt\")\n",
    "phi_ene = data_ene[:, 0]\n",
    "E_ene = data_ene[:, 1] * ase.units.Hartree\n",
    "E_ene -= E_ene[-1]\n",
    "\n",
    "plt.figure()\n",
    "plt.polar(phi_ane * np.pi / 180., E_ane, label=r\"$E_{\\mathrm{pot}}$\", color=colors[0])\n",
    "ax = plt.gca()\n",
    "ax.set_theta_zero_location(\"N\")\n",
    "plt.title(\"Ethane\")\n",
    "plt.legend(loc=\"best\")\n",
    "plt.show()\n",
    "\n",
    "plt.figure()\n",
    "plt.polar(phi_ene * np.pi / 180., E_ene, label=r\"$E_{\\mathrm{pot}}$\", color=colors[1])\n",
    "ax = plt.gca()\n",
    "ax.set_theta_zero_location(\"N\")\n",
    "plt.title(\"Ethene\")\n",
    "plt.legend(loc=\"best\")\n",
    "plt.show()\n"
   ]
  },
  {
   "cell_type": "markdown",
   "metadata": {},
   "source": [
    "# Fitting the results to the Ryckaert-Bellemans form\n",
    "\n",
    "We will fit each of these curves to a function of the form:\n",
    "\n",
    "$$E_{\\mathrm{pot}}=V_0 + \\frac{V_1}{2}\\left[1+\\cos\\Phi\\right]+ \\frac{V_2}{2}\\left[1-\\cos\\left(2\\Phi\\right)\\right]+\\frac{V_3}{2}\\left[1+\\cos\\left(3\\Phi\\right)\\right]+ \\frac{V_4}{2}\\left[1-\\cos\\left(4\\Phi\\right)\\right]$$\n",
    "\n",
    "There is a new $V_0$ term absent from the slides, since we need to accommodate the arbitrary origin of energies chosen by the DFT program.\n",
    "\n",
    "It is interesting to see how each term of this expression looks like in a polar plot:"
   ]
  },
  {
   "cell_type": "code",
   "execution_count": null,
   "metadata": {},
   "outputs": [],
   "source": [
    "plt.figure()\n",
    "\n",
    "phi = np.linspace(0., 2. * np.pi, num=1000)\n",
    "\n",
    "for i in range(1, 5):\n",
    "    parity = (i - 1) % 2\n",
    "    plt.polar(phi, 1. + (1., -1.)[parity] * np.cos(i * phi),\n",
    "              label=r\"$1 {} \\cos\\left({}\\phi\\right)$\".format((\"+\", \"-\")[parity], i if i > 1 else \"\"),\n",
    "              color=colors[i], lw=2.)\n",
    "ax = plt.gca()\n",
    "ax.set_theta_zero_location(\"N\")\n",
    "plt.legend(loc=\"best\")\n",
    "plt.tight_layout()\n",
    "plt.show()"
   ]
  },
  {
   "cell_type": "code",
   "execution_count": null,
   "metadata": {},
   "outputs": [],
   "source": [
    "def ryckaert_bellemans(phi, V0, V1, V2, V3, V4):\n",
    "    \"\"\"Implementation of the Ryckaert-Bellemans dihedral term.\"\"\"\n",
    "    return V0 + .5 * (V1 * (1. + np.cos(phi)) + V2 * (1. - np.cos(2. * phi)) +\n",
    "                      V3 * (1. + np.cos(3. * phi)) + V4 * (1. - np.cos(4. * phi)))"
   ]
  },
  {
   "cell_type": "markdown",
   "metadata": {},
   "source": [
    "## Fit for ethane"
   ]
  },
  {
   "cell_type": "code",
   "execution_count": null,
   "metadata": {},
   "outputs": [],
   "source": [
    "result = scipy.optimize.curve_fit(ryckaert_bellemans, phi_ane * np.pi / 180., E_ane, p0=(E_ane.mean(), 0., 0., 0., 0.))\n",
    "V0, V1, V2, V3, V4 = result[0]\n",
    "\n",
    "display(Markdown(r\"\"\"\n",
    "Ryckaert-Bellemans for ethane:\n",
    "\n",
    "- $V_0 = {:.4f}\\;\\mathrm{{eV}}$\n",
    "- $V_1 = {:.4f}\\;\\mathrm{{eV}}$\n",
    "- $V_2 = {:.4f}\\;\\mathrm{{eV}}$\n",
    "- $V_3 = {:.4f}\\;\\mathrm{{eV}}$\n",
    "- $V_4 = {:.4f}\\;\\mathrm{{eV}}$\n",
    "\"\"\".format(V0, V1, V2, V3, V4)))\n",
    "\n",
    "plt.figure()\n",
    "plt.polar(phi_ane * np.pi / 180., E_ane, label=\"DFT\", color=colors[0])\n",
    "plt.polar(phi, ryckaert_bellemans(phi, V0, V1, V2, V3, V4), label=\"Ryckaert-Bellemans\", color=colors[1])\n",
    "plt.title(\"Ethane\")\n",
    "plt.legend(loc=\"best\")\n",
    "ax = plt.gca()\n",
    "ax.set_theta_zero_location(\"N\")\n",
    "plt.show()"
   ]
  },
  {
   "cell_type": "markdown",
   "metadata": {},
   "source": [
    "## Fit for ethene"
   ]
  },
  {
   "cell_type": "code",
   "execution_count": null,
   "metadata": {},
   "outputs": [],
   "source": [
    "result = scipy.optimize.curve_fit(ryckaert_bellemans, phi_ene * np.pi / 180., E_ene, p0=(E_ene.mean(), 0., 0., 0., 0.))\n",
    "V0, V1, V2, V3, V4 = result[0]\n",
    "\n",
    "display(Markdown(r\"\"\"\n",
    "Ryckaert-Bellemans for ethene:\n",
    "\n",
    "- $V_0 = {:.4f}\\;\\mathrm{{eV}}$\n",
    "- $V_1 = {:.4f}\\;\\mathrm{{eV}}$\n",
    "- $V_2 = {:.4f}\\;\\mathrm{{eV}}$\n",
    "- $V_3 = {:.4f}\\;\\mathrm{{eV}}$\n",
    "- $V_4 = {:.4f}\\;\\mathrm{{eV}}$\n",
    "\"\"\".format(V0, V1, V2, V3, V4)))\n",
    "\n",
    "plt.figure()\n",
    "plt.polar(phi_ene * np.pi / 180., E_ene, label=\"DFT\", color=colors[0])\n",
    "plt.polar(phi, ryckaert_bellemans(phi, V0, V1, V2, V3, V4), label=\"Ryckaert-Bellemans\", color=colors[1])\n",
    "plt.title(\"Ethene\")\n",
    "plt.legend(loc=\"best\")\n",
    "ax = plt.gca()\n",
    "ax.set_theta_zero_location(\"N\")\n",
    "plt.show()"
   ]
  },
  {
   "cell_type": "code",
   "execution_count": null,
   "metadata": {},
   "outputs": [],
   "source": []
  }
 ],
 "metadata": {
  "hide_input": false,
  "kernelspec": {
   "display_name": "Python 3 (ipykernel)",
   "language": "python",
   "name": "python3"
  },
  "language_info": {
   "codemirror_mode": {
    "name": "ipython",
    "version": 3
   },
   "file_extension": ".py",
   "mimetype": "text/x-python",
   "name": "python",
   "nbconvert_exporter": "python",
   "pygments_lexer": "ipython3",
   "version": "3.8.8"
  }
 },
 "nbformat": 4,
 "nbformat_minor": 4
}
